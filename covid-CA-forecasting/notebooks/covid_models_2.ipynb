{
 "cells": [
  {
   "cell_type": "code",
   "execution_count": 63,
   "metadata": {
    "pycharm": {
     "is_executing": false
    }
   },
   "outputs": [],
   "source": [
    "from torch_geometric_temporal.data.splitter import discrete_train_test_split\n",
    "import pickle \n",
    "import torch\n",
    "import torch.nn as nn\n",
    "from covid_CA_forecasting import covid_models"
   ]
  },
  {
   "cell_type": "code",
   "execution_count": 64,
   "metadata": {
    "pycharm": {
     "is_executing": false
    }
   },
   "outputs": [],
   "source": [
    "path = '/home/mxenoc/workspace/pickles/RISE/'\n",
    "\n",
    "with open(path + 'train_SC_all_NoC_14_02.pkl', 'rb') as f:\n",
    "    train_dataset = pickle.load(f)\n",
    "\n",
    "with open(path + 'test_SC_all_NoC_14_02.pkl', 'rb') as f:\n",
    "    test_dataset = pickle.load(f)"
   ]
  },
  {
   "cell_type": "code",
   "execution_count": 65,
   "metadata": {
    "collapsed": false,
    "jupyter": {
     "outputs_hidden": false
    },
    "pycharm": {
     "name": "#%%\n"
    }
   },
   "outputs": [],
   "source": [
    "device = torch.device('cuda' if torch.cuda.is_available() else 'cpu')\n",
    "model = covid_models.TGCN_Model(node_features = 1)\n",
    "optimizer = torch.optim.Adam(model.parameters(), lr=0.002)\n",
    "#loss_function = nn.MSELoss()\n",
    "loss_function = nn.L1Loss()\n",
    "\n",
    "epochs = 20"
   ]
  },
  {
   "cell_type": "code",
   "execution_count": 66,
   "metadata": {},
   "outputs": [
    {
     "name": "stdout",
     "output_type": "stream",
     "text": [
      "Previously trained model weights state_dict loaded...\n",
      "Previously trained optimizer state_dict loaded...\n",
      "Trained model loss function loaded...\n",
      "Previously trained for 5 number of epochs...\n",
      "Train for 5 more epochs...\n"
     ]
    }
   ],
   "source": [
    "# load the model checkpoint\n",
    "checkpoint = torch.load(root+'model_13_02_NoC.pth')\n",
    "# load model weights state_dict\n",
    "model.load_state_dict(checkpoint['model_state_dict'])\n",
    "print('Previously trained model weights state_dict loaded...')\n",
    "# load trained optimizer state_dict\n",
    "optimizer.load_state_dict(checkpoint['optimizer_state_dict'])\n",
    "print('Previously trained optimizer state_dict loaded...')\n",
    "epochs = checkpoint['epoch']\n",
    "# load the criterion\n",
    "criterion = checkpoint['loss']\n",
    "epochs = 5\n",
    "print('Trained model loss function loaded...')\n",
    "print(f\"Previously trained for {epochs} number of epochs...\")\n",
    "print(f\"Train for {epochs} more epochs...\")"
   ]
  },
  {
   "cell_type": "code",
   "execution_count": 67,
   "metadata": {
    "pycharm": {
     "is_executing": false
    }
   },
   "outputs": [
    {
     "name": "stdout",
     "output_type": "stream",
     "text": [
      "Epoch: 000, Loss: 0.16795, Train Loss: 0.16633, Test Loss: 0.07544\n",
      "Epoch: 001, Loss: 0.16780, Train Loss: 0.16624, Test Loss: 0.07528\n",
      "Epoch: 002, Loss: 0.16773, Train Loss: 0.16618, Test Loss: 0.07513\n",
      "Epoch: 003, Loss: 0.16772, Train Loss: 0.16613, Test Loss: 0.07501\n",
      "Epoch: 004, Loss: 0.16763, Train Loss: 0.16609, Test Loss: 0.07491\n"
     ]
    }
   ],
   "source": [
    "train_accuracies, test_accuracies = list(), list()\n",
    "\n",
    "for epoch in range(epochs):\n",
    "    cost = 0\n",
    "    losses = []\n",
    "    \n",
    "    model.train()\n",
    "    for time, snapshot in enumerate(train_dataset):\n",
    "        y_hat = model(snapshot.x, snapshot.edge_index, snapshot.edge_attr)\n",
    "        cost += loss_function(torch.reshape(y_hat, (-1,)), snapshot.y)\n",
    "                \n",
    "    cost = cost / (time+1)\n",
    "    cost.backward()\n",
    "    optimizer.step()\n",
    "    optimizer.zero_grad()\n",
    "    \n",
    "    train_acc = covid_models.train_error(model, loss_function, train_dataset)\n",
    "    test_acc = covid_models.test_error(model, loss_function, test_dataset)\n",
    "\n",
    "    train_accuracies.append(train_acc)\n",
    "    test_accuracies.append(test_acc)\n",
    "    \n",
    "    print('Epoch: {:03d}, Loss: {:.5f}, Train Loss: {:.5f}, Test Loss: {:.5f}'.\n",
    "          format(epoch, cost, train_acc, test_acc))"
   ]
  },
  {
   "cell_type": "code",
   "execution_count": 68,
   "metadata": {},
   "outputs": [
    {
     "data": {
      "text/plain": [
       "Data(edge_attr=[7089], edge_index=[2, 7089], x=[313, 1], y=[313])"
      ]
     },
     "execution_count": 68,
     "metadata": {},
     "output_type": "execute_result"
    }
   ],
   "source": [
    "snapshot"
   ]
  },
  {
   "cell_type": "code",
   "execution_count": 71,
   "metadata": {},
   "outputs": [],
   "source": [
    "#Set the path\n",
    "root = '/home/mxenoc/workspace/covid-CA-forecasting/results/'\n",
    "\n",
    "#Save the test results\n",
    "with open(root + '/Census_test_14_02_NoC.pkl', 'wb') as f:  \n",
    "    pickle.dump(test_accuracies, f)"
   ]
  },
  {
   "cell_type": "code",
   "execution_count": 70,
   "metadata": {},
   "outputs": [],
   "source": [
    "torch.save({\n",
    "            'epoch': epochs,\n",
    "            'model_state_dict': model.state_dict(),\n",
    "            'optimizer_state_dict': optimizer.state_dict(),\n",
    "            'loss': loss_function,\n",
    "            }, root+'model_14_02_NoC.pth')"
   ]
  },
  {
   "cell_type": "code",
   "execution_count": 40,
   "metadata": {
    "pycharm": {
     "is_executing": false,
     "name": "#%%"
    }
   },
   "outputs": [
    {
     "data": {
      "image/png": "[encoded data removed]",
      "text/plain": [
       "<Figure size 324x252 with 1 Axes>"
      ]
     },
     "metadata": {
      "needs_background": "light"
     },
     "output_type": "display_data"
    }
   ],
   "source": [
    "import matplotlib.pyplot as plt\n",
    "import numpy as np\n",
    "import os\n",
    "f = plt.figure(figsize=(4.5, 3.5))\n",
    "\n",
    "#plt.axhline(y=0.051, color='r', linestyle='--', label=\"Naive_train\")\n",
    "#plt.axhline(y=0.23, color='r', linestyle='--', label=\"Naive_test\")\n",
    "plt.plot(train_accuracies, label=\"Train\", color='hotpink')\n",
    "plt.plot(test_accuracies, label=\"Test - with census\", color='lightskyblue')\n",
    "#plt.plot(test_accuracies_test, label=\"Test - without census\", color='hotpink')\n",
    "\n",
    "plt.xlabel(\"# Epoch\")\n",
    "plt.ylabel(\"Cases per 1000 residents\")\n",
    "plt.legend(loc='upper right')\n",
    "plt.draw()\n",
    "\n",
    "#os.chdir('/home/mxenoc/workspace/covid-CA-forecasting/plots')\n",
    "#plt.savefig('test_curve.png', dpi=500, bbox_inches='tight')"
   ]
  },
  {
   "cell_type": "code",
   "execution_count": null,
   "metadata": {},
   "outputs": [],
   "source": []
  }
 ],
 "metadata": {
  "kernelspec": {
   "display_name": "pygeo",
   "language": "python",
   "name": "pygeo"
  },
  "language_info": {
   "codemirror_mode": {
    "name": "ipython",
    "version": 3
   },
   "file_extension": ".py",
   "mimetype": "text/x-python",
   "name": "python",
   "nbconvert_exporter": "python",
   "pygments_lexer": "ipython3",
   "version": "3.7.9"
  },
  "pycharm": {
   "stem_cell": {
    "cell_type": "raw",
    "metadata": {
     "collapsed": false
    },
    "source": []
   }
  }
 },
 "nbformat": 4,
 "nbformat_minor": 4
}
