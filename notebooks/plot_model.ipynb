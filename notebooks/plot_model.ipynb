{
 "cells": [
  {
   "cell_type": "code",
   "execution_count": 1,
   "metadata": {},
   "outputs": [],
   "source": [
    "import pickle\n",
    "import numpy as np"
   ]
  },
  {
   "cell_type": "code",
   "execution_count": 2,
   "metadata": {},
   "outputs": [],
   "source": [
    "models = {}"
   ]
  },
  {
   "cell_type": "code",
   "execution_count": 3,
   "metadata": {},
   "outputs": [],
   "source": [
    "#model_names = ('LRGCN', 'DCRNN', 'DyGrEncoder', 'GConvLSTM', 'GConvGRU', 'GCLSTM', 'TGCN')"
   ]
  },
  {
   "cell_type": "code",
   "execution_count": 1,
   "metadata": {},
   "outputs": [],
   "source": [
    "model_names = ('SC_census')"
   ]
  },
  {
   "cell_type": "code",
   "execution_count": null,
   "metadata": {},
   "outputs": [],
   "source": [
    "for model_name in model_names:\n",
    "    with open('/home/mxenoc/workspace/covid-CA-forecasting/results/'+ model_name +'.pkl', 'rb') as f:\n",
    "        models[model_name] = pickle.load(f)"
   ]
  },
  {
   "cell_type": "code",
   "execution_count": null,
   "metadata": {},
   "outputs": [],
   "source": [
    "import matplotlib.pyplot as plt\n",
    "import numpy as np\n",
    "import os\n",
    "f = plt.figure(figsize=(4.5, 3.5))\n",
    "\n",
    "plt.axhline(y=3.45, color='r', linestyle='--', label=\"Naive\")\n",
    "plt.plot(models[LRGCN], label=\"LRGCN\", color='pink')\n",
    "plt.plot(models[DCRNN], label=\"DCRNN\", color='crimson')\n",
    "plt.plot(models[DyGrEncoder], label=\"DyGrEncoder\", color='palevioletred')\n",
    "plt.plot(models[GConvLSTM], label=\"GConvLSTM\", color='cadetblue')\n",
    "plt.plot(models[GConvGRU], label=\"GConvGRU\", color='cornflowerblue')\n",
    "plt.plot(models[GCLSTM], label=\"GCLSTM\", color='salmon')\n",
    "plt.plot(models[TGCN], label=\"TGCN\", color='lightskyblue')\n",
    "\n",
    "plt.xlabel(\"# Epoch\")\n",
    "plt.ylabel(\"MSE (cases per 1000 residents)\")\n",
    "plt.legend(loc='upper right')\n",
    "plt.draw()\n",
    "os.chdir('/home/mxenoc/workspace/RISE')\n",
    "plt.savefig('model_comparison_RISE.png', dpi=500, bbox_inches='tight')"
   ]
  },
  {
   "cell_type": "code",
   "execution_count": 47,
   "metadata": {},
   "outputs": [
    {
     "data": {
      "image/png": "[encoded data removed]",
      "text/plain": [
       "<Figure size 324x252 with 1 Axes>"
      ]
     },
     "metadata": {
      "needs_background": "light"
     },
     "output_type": "display_data"
    }
   ],
   "source": [
    "import matplotlib.pyplot as plt\n",
    "import numpy as np\n",
    "import os\n",
    "f = plt.figure(figsize=(4.5, 3.5))\n",
    "\n",
    "plt.axhline(y=3.45, color='r', linestyle='--', label=\"Naive\")\n",
    "plt.plot(models['TGCN_census'], label=\"TGCN_census\", color='palevioletred')\n",
    "plt.plot(models['TGCN_income'], label=\"TGCN_income\", color='cornflowerblue')\n",
    "plt.plot(models['TGCN'], label=\"TGCN\", color='lightskyblue')\n",
    "\n",
    "plt.xlabel(\"# Epoch\")\n",
    "plt.ylabel(\"MSE (cases per 1000 residents)\")\n",
    "plt.legend(loc='lower left')\n",
    "plt.draw()\n",
    "os.chdir('/home/mxenoc/workspace/RISE')\n",
    "plt.savefig('TGCN_comparison_RISE.png', dpi=500, bbox_inches='tight')"
   ]
  },
  {
   "cell_type": "code",
   "execution_count": null,
   "metadata": {},
   "outputs": [],
   "source": [
    "y_pos = [models['TGCN'][-1], models['DCRNN'][-1], models['DyGrEncoder'][-1], models['GConvLSTM'][-1], \n",
    "         models['GConvGRU'][-1], models['GCLSTM'][-1], models['TGCN'][-1]]\n",
    "predictors = ['LRGCN', 'DCRNN', 'DyGrEncoder', 'GConvLSTM', 'GConvGRU', 'GCLSTM', 'TGCN']"
   ]
  },
  {
   "cell_type": "code",
   "execution_count": null,
   "metadata": {},
   "outputs": [],
   "source": [
    "f = plt.figure(figsize=(3.5, 2.5))\n",
    "plt.axhline(y=3.45, color='r', linestyle='--', label=\"Naive\")\n",
    "plt.bar(predictors, y_pos, color=['pink', 'crimson', 'palevioletred', 'cadetblue', 'cornflowerblue', 'salmon','lightskyblue'])\n",
    "plt.xlabel('Model')\n",
    "plt.ylabel('MSE (cases per 1000)')\n",
    "plt.title('Prediction performance')\n",
    "plt.xticks(rotation=45)\n",
    "#plt.show()\n",
    "\n",
    "os.chdir('/home/mxenoc/workspace/RISE')\n",
    "plt.savefig('model_comparison_bars.png', dpi=500, bbox_inches='tight')"
   ]
  },
  {
   "cell_type": "code",
   "execution_count": 4,
   "metadata": {},
   "outputs": [],
   "source": [
    "#model_names = ('Census_train_11_02', 'Census_test_11_02')\n",
    "model_names = ('Census_test_09_02', 'Census_test_10_02', 'Census_test_11_02', 'Census_test_12_02', \n",
    "              'Census_test_13_02', 'Census_test_14_02',\n",
    "              'Census_test_09_02_NoC', 'Census_test_10_02_NoC', 'Census_test_11_02_NoC', 'Census_test_12_02_NoC', \n",
    "              'Census_test_13_02_NoC', 'Census_test_14_02_NoC')"
   ]
  },
  {
   "cell_type": "code",
   "execution_count": 49,
   "metadata": {},
   "outputs": [],
   "source": [
    "#'/home/mxenoc/workspace/covid-CA-forecasting/results/'+ model_name +'.pkl'\n",
    "\n",
    "with open('/home/mxenoc/workspace/covid-CA-forecasting/results/'+ model_name +'.pkl', 'rb') as f:\n",
    "    model = pickle.load(f)"
   ]
  },
  {
   "cell_type": "code",
   "execution_count": 5,
   "metadata": {},
   "outputs": [],
   "source": [
    "for model_name in model_names:\n",
    "    with open('/home/mxenoc/workspace/covid-CA-forecasting/results/'+ model_name +'.pkl', 'rb') as f:\n",
    "        models[model_name] = pickle.load(f)"
   ]
  },
  {
   "cell_type": "code",
   "execution_count": null,
   "metadata": {},
   "outputs": [],
   "source": [
    "import matplotlib.pyplot as plt\n",
    "import numpy as np\n",
    "import os\n",
    "f = plt.figure(figsize=(4.5, 3.5))\n",
    "\n",
    "#plt.plot(model, label=\"Census_train_11_02\", color='palevioletred')\n",
    "#plt.plot(model, label=\"Census_train_11_02\", color='palevioletred')\n",
    "plt.plot(model, label=\"SC_Census\", color='palevioletred')\n",
    "\n",
    "plt.xlabel(\"# Epoch\")\n",
    "plt.ylabel(\"MSE (cases per 1000 residents)\")\n",
    "plt.legend(loc='lower left')\n",
    "plt.draw()\n",
    "#os.chdir('/home/mxenoc/workspace/RISE')\n",
    "#plt.savefig('TGCN_comparison_RISE.png', dpi=500, bbox_inches='tight')"
   ]
  },
  {
   "cell_type": "code",
   "execution_count": 28,
   "metadata": {},
   "outputs": [],
   "source": [
    "import seaborn as sns\n",
    "import pandas as pd"
   ]
  },
  {
   "cell_type": "code",
   "execution_count": 16,
   "metadata": {},
   "outputs": [],
   "source": [
    "t=sns.load_dataset('tips')"
   ]
  },
  {
   "cell_type": "code",
   "execution_count": null,
   "metadata": {},
   "outputs": [],
   "source": [
    "errors = []\n",
    "for model_name in model_names:\n",
    "    errors.append(np.round(models[model_name][-1],3))\n",
    "    \n",
    "errors.append(0.1704)\n",
    "errors.append(0.1452)\n",
    "errors.append(0.1315)\n",
    "errors.append(0.1232)\n",
    "errors.append(0.1208)\n",
    "errors.append(0.1044)"
   ]
  },
  {
   "cell_type": "code",
   "execution_count": 45,
   "metadata": {},
   "outputs": [],
   "source": [
    "labels = ['with census', 'with census', 'with census', 'with census', 'with census', 'with census',\n",
    "         'without census', 'without census', 'without census', 'without census', 'without census', 'without census',\n",
    "         'naive', 'naive', 'naive', 'naive', 'naive', 'naive']"
   ]
  },
  {
   "cell_type": "code",
   "execution_count": 46,
   "metadata": {},
   "outputs": [],
   "source": [
    "day = ['09.02', '10.02', '11.02', '12.02', '13.02', '14.02',\n",
    "       '09.02', '10.02', '11.02', '12.02', '13.02', '14.02',\n",
    "       '09.02', '10.02', '11.02', '12.02', '13.02', '14.02']"
   ]
  },
  {
   "cell_type": "code",
   "execution_count": 47,
   "metadata": {},
   "outputs": [],
   "source": [
    "d = {'errors': errors, 'labels': labels, 'day': day}\n",
    "\n",
    "df = pd.DataFrame(data=d)"
   ]
  },
  {
   "cell_type": "code",
   "execution_count": 58,
   "metadata": {},
   "outputs": [
    {
     "data": {
      "image/png": "[encoded data removed]",
      "text/plain": [
       "<Figure size 432x288 with 1 Axes>"
      ]
     },
     "metadata": {
      "needs_background": "light"
     },
     "output_type": "display_data"
    }
   ],
   "source": [
    "%matplotlib inline\n",
    "sns.stripplot(x=\"day\",y=\"errors\",data=df,jitter=False,hue='labels',palette='Set1', size=8)\n",
    "plt.draw()\n",
    "plt.savefig('/home/mxenoc/workspace/covid-CA-forecasting/plots/census_comparison.png', dpi=500, bbox_inches='tight')"
   ]
  },
  {
   "cell_type": "code",
   "execution_count": null,
   "metadata": {},
   "outputs": [],
   "source": []
  },
  {
   "cell_type": "code",
   "execution_count": null,
   "metadata": {},
   "outputs": [],
   "source": []
  }
 ],
 "metadata": {
  "kernelspec": {
   "display_name": "Python 3",
   "language": "python",
   "name": "python3"
  },
  "language_info": {
   "codemirror_mode": {
    "name": "ipython",
    "version": 3
   },
   "file_extension": ".py",
   "mimetype": "text/x-python",
   "name": "python",
   "nbconvert_exporter": "python",
   "pygments_lexer": "ipython3",
   "version": "3.7.4"
  }
 },
 "nbformat": 4,
 "nbformat_minor": 4
}
