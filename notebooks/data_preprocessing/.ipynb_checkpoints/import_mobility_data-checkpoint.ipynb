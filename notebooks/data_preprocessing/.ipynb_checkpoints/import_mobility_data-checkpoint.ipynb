{
 "cells": [
  {
   "cell_type": "code",
   "execution_count": 12,
   "metadata": {},
   "outputs": [],
   "source": [
    "import pandas as pd\n",
    "import pickle\n",
    "import numpy as np\n",
    "import tqdm"
   ]
  },
  {
   "cell_type": "code",
   "execution_count": 2,
   "metadata": {},
   "outputs": [
    {
     "name": "stderr",
     "output_type": "stream",
     "text": [
      "/home/mxenoc/anaconda3/lib/python3.7/site-packages/ipykernel_launcher.py:8: SettingWithCopyWarning: \n",
      "A value is trying to be set on a copy of a slice from a DataFrame.\n",
      "Try using .loc[row_indexer,col_indexer] = value instead\n",
      "\n",
      "See the caveats in the documentation: https://pandas.pydata.org/pandas-docs/stable/user_guide/indexing.html#returning-a-view-versus-a-copy\n",
      "  \n"
     ]
    }
   ],
   "source": [
    "#Import Alameda social distancing\n",
    "ca_social_distancing = pd.read_csv('/home/mxenoc/workspace/covid-CA-forecasting/data/csv_files/ca_social_distancing.csv', error_bad_lines=False, engine=\"python\")\n",
    "\n",
    "#Keep the columns you want\n",
    "social_distancing_CA = ca_social_distancing[['origin_census_block_group', 'date_range_start', 'device_count', 'destination_cbgs']]\n",
    "\n",
    "#Make it to date format\n",
    "social_distancing_CA['date_range_start'] = pd.to_datetime(social_distancing_CA['date_range_start'])\n",
    "\n",
    "with open('/home/mxenoc/workspace/pickles/RISE/social_distancing_CA.pkl', 'wb') as f:  \n",
    "    pickle.dump(social_distancing_CA, f)"
   ]
  },
  {
   "cell_type": "code",
   "execution_count": 3,
   "metadata": {},
   "outputs": [],
   "source": [
    "root = '/home/mxenoc/workspace/pickles/RISE/'"
   ]
  },
  {
   "cell_type": "code",
   "execution_count": 4,
   "metadata": {},
   "outputs": [],
   "source": [
    "with open(root+'city_stats.pkl', 'rb') as f:\n",
    "    city_stats = pickle.load(f)"
   ]
  },
  {
   "cell_type": "code",
   "execution_count": 5,
   "metadata": {},
   "outputs": [],
   "source": [
    "#This matches census block groups to cities\n",
    "#Import dataset\n",
    "matching_cities = pd.read_csv('/home/mxenoc/workspace/covid-CA-forecasting/data/csv_files/matching_cities.csv',error_bad_lines=False, engine=\"python\")\n",
    "#Remove first row\n",
    "matching_cities = matching_cities.loc[1:,:]\n",
    "#Drop unwanted columns\n",
    "matching_cities.drop(['Unnamed: 0', 'zipcode'], axis = 1, inplace = True)"
   ]
  },
  {
   "cell_type": "code",
   "execution_count": 6,
   "metadata": {},
   "outputs": [],
   "source": [
    "#Remove the ''' from the origin column\n",
    "matching_cities['census_block_group'] = matching_cities['census_block_group'].astype(str).str[1:]\n",
    "#Create a row to match the stay home devices\n",
    "add_row = pd.DataFrame([['completely_home_device_count', 1.000000, 'staying_home']], columns = ['census_block_group', 'afact', 'city'])\n",
    "#Append row\n",
    "matching_cities = matching_cities.append(add_row, ignore_index = True)\n",
    "\n",
    "with open('/home/mxenoc/workspace/pickles/RISE/matching_cities.pkl', 'wb') as f:  \n",
    "    pickle.dump(matching_cities, f)"
   ]
  },
  {
   "cell_type": "code",
   "execution_count": 7,
   "metadata": {},
   "outputs": [
    {
     "data": {
      "text/plain": [
       "451"
      ]
     },
     "execution_count": 7,
     "metadata": {},
     "output_type": "execute_result"
    }
   ],
   "source": [
    "len(np.unique(social_distancing_CA['date_range_start']))"
   ]
  },
  {
   "cell_type": "code",
   "execution_count": 8,
   "metadata": {},
   "outputs": [],
   "source": [
    "#Get population per city\n",
    "with open('/home/mxenoc/workspace/pickles/RISE/covid_california.pkl', 'rb') as f:\n",
    "    covid_california = pickle.load(f)\n",
    "    \n",
    "population_cali = covid_california[['name', 'population']]\n",
    "population_cali = population_cali[population_cali.population != 0]\n",
    "population_cali = population_cali.drop_duplicates()\n",
    "population_cali = population_cali.groupby(['name'], as_index=False)['population'].mean()\n",
    "population_cali.columns = ['origin_city', 'population']\n",
    "\n",
    "with open('/home/mxenoc/workspace/pickles/RISE/population_cali.pkl', 'wb') as f:  \n",
    "    pickle.dump(population_cali, f)"
   ]
  },
  {
   "cell_type": "code",
   "execution_count": 9,
   "metadata": {},
   "outputs": [],
   "source": [
    "###"
   ]
  },
  {
   "cell_type": "code",
   "execution_count": 10,
   "metadata": {},
   "outputs": [
    {
     "data": {
      "text/plain": [
       "numpy.datetime64('2020-06-23T00:00:00.000000000')"
      ]
     },
     "execution_count": 10,
     "metadata": {},
     "output_type": "execute_result"
    }
   ],
   "source": [
    "np.unique(social_distancing_CA['date_range_start'])[174]"
   ]
  },
  {
   "cell_type": "code",
   "execution_count": null,
   "metadata": {},
   "outputs": [],
   "source": [
    "for i in list(range(0,len(np.unique(social_distancing_CA['date_range_start'])))):\n",
    "    \n",
    "    root = '/home/mxenoc/workspace/pickles/RISE/'\n",
    "    \n",
    "    import pandas as pd\n",
    "    import numpy as np\n",
    "    from collections import defaultdict\n",
    "    import csv\n",
    "    import pickle\n",
    "    from datetime import datetime\n",
    "\n",
    "    #Import social distancing\n",
    "    with open(root+'social_distancing_CA.pkl', 'rb') as f:\n",
    "        social_distancing_CA = pickle.load(f)\n",
    "\n",
    "    #Import matching cities\n",
    "    with open(root+'matching_cities.pkl', 'rb') as f:\n",
    "        matching_cities = pickle.load(f)\n",
    "                \n",
    "    #Import matching cities\n",
    "    with open(root+'population_cali.pkl', 'rb') as f:\n",
    "        population_cali = pickle.load(f)\n",
    "\n",
    "    #Get the range dates in a list\n",
    "    dates_range = np.unique(social_distancing_CA['date_range_start'])\n",
    "    date = dates_range[i]\n",
    "\n",
    "    #Pick a day\n",
    "    social_distancing_CA = social_distancing_CA.loc[social_distancing_CA['date_range_start'] == date] \n",
    "\n",
    "    #Add week number\n",
    "    #social_distancing_CA.loc[:,'week'] = social_distancing_CA.loc[:,'date_range_start'].apply(lambda x: x.strftime('%W'))\n",
    "\n",
    "    #Get temporary column with block groups as dictionary\n",
    "    new_column = social_distancing_CA['destination_cbgs'].apply(lambda x : dict(eval(x)))\n",
    "\n",
    "    #Turn it into a new dataframe with columns as destination postcodes\n",
    "    new_columns = pd.DataFrame(new_column.tolist())\n",
    "\n",
    "    #Reset indexes\n",
    "    social_distancing_CA = social_distancing_CA.reset_index()\n",
    "    new_columns = new_columns.reset_index()\n",
    "\n",
    "    #Concatenate the new dataframe with the old one\n",
    "    social_distancing_CA = pd.concat([social_distancing_CA.drop(['destination_cbgs'], axis=1), new_columns], axis=1)\n",
    "\n",
    "    #Fill nas with 0 movement\n",
    "    social_distancing_CA.fillna(0, inplace = True)\n",
    "\n",
    "    #Drop unwanted columns\n",
    "    social_distancing_CA = social_distancing_CA.drop(['index'], axis = 1)\n",
    "\n",
    "    #Make columns rows\n",
    "    blocks_mobility = social_distancing_CA.melt(id_vars=['origin_census_block_group', 'date_range_start', 'device_count'], \n",
    "                                                 var_name=\"destination_census_block_group\", value_name=\"moving_devices\")\n",
    "\n",
    "    #Remove rows with 0 moving devices\n",
    "    blocks_mobility = blocks_mobility[blocks_mobility.moving_devices != 0]\n",
    "\n",
    "    #Remove the ''' from the origin column\n",
    "    blocks_mobility['origin_census_block_group'] = blocks_mobility['origin_census_block_group'].astype(str).str[1:]\n",
    "\n",
    "    #Match origin block groups to cities\n",
    "    matching_cities = matching_cities[['census_block_group', 'afact', 'city']]\n",
    "    matching_cities.columns = ['origin_census_block_group', 'origin_afact', 'origin_city']\n",
    "    merge_1 = blocks_mobility.merge(matching_cities)\n",
    "\n",
    "    #Match destination block groups to cities\n",
    "    matching_cities.columns = ['destination_census_block_group', 'destination_afact', 'destination_city']\n",
    "    merge_2 = merge_1.merge(matching_cities)\n",
    "\n",
    "    #Get new cases per city\n",
    "    merge_2['moving_devices_new'] = np.round(merge_2.origin_afact.astype(float) * merge_2.destination_afact.astype(float) * merge_2.moving_devices.astype(float))\n",
    "\n",
    "    device_count = merge_2[['origin_census_block_group', 'device_count', 'origin_afact', 'origin_city']].drop_duplicates()\n",
    "    device_count['device_count_cities'] = np.round(device_count.origin_afact.astype(float) * device_count.device_count.astype(float))\n",
    "    device_count = device_count.groupby(['origin_city'], as_index=False)['device_count_cities'].sum()\n",
    "    #Drop unwanted columns\n",
    "    movement_cities = merge_2.drop(['origin_census_block_group', 'destination_census_block_group',\n",
    "                                            'origin_afact', 'destination_afact', 'moving_devices', 'device_count'], axis = 1)\n",
    "\n",
    "    #Drop rows with zero traffic and stay-home devices\n",
    "    movement_cities = movement_cities[movement_cities.destination_city != 'Home']\n",
    "\n",
    "    #Group by cities and date\n",
    "    movement_cities = movement_cities.groupby(['date_range_start', 'origin_city', 'destination_city'], as_index=False)['moving_devices_new'].sum()\n",
    "    movement_cities = pd.merge(movement_cities, device_count, how='left')\n",
    "    movement_cities = pd.merge(movement_cities, population_cali, how='left')\n",
    "    movement_cities['device_count_normalised'] = np.round((movement_cities.population.astype(float) * movement_cities.moving_devices_new.astype(float))/movement_cities.device_count_cities.astype(float))\n",
    "\n",
    "    #Save each day\n",
    "    with open(root + 'social_distancing_days/movement_'+str(date)+'.pkl', 'wb') as f:  \n",
    "        pickle.dump(movement_cities, f)\n",
    "\n",
    "    #Clear memory\n",
    "    %reset -f"
   ]
  },
  {
   "cell_type": "code",
   "execution_count": null,
   "metadata": {},
   "outputs": [],
   "source": [
    "#Now is the time to divide with number of devices - actually not\n",
    "#social_distancing_CA[new_columns.columns.drop('index')] = social_distancing_CA[new_columns.columns.drop('index')].div(social_distancing_CA.device_count, axis = 0)"
   ]
  },
  {
   "cell_type": "code",
   "execution_count": null,
   "metadata": {},
   "outputs": [],
   "source": [
    "#pd.DataFrame(new_column.tolist())\n",
    "#test.apply(pd.Series)\n",
    "#test.swifter.apply(pd.Series)"
   ]
  },
  {
   "cell_type": "code",
   "execution_count": null,
   "metadata": {},
   "outputs": [],
   "source": [
    "#device_count_block_groups = social_distancing_CA[['origin_census_block_group', 'device_count']]\n",
    "#device_count_block_groups.loc[:,'origin_census_block_group'] = device_count_block_groups.loc[:,'origin_census_block_group'].astype(str).str[1:]"
   ]
  },
  {
   "cell_type": "code",
   "execution_count": null,
   "metadata": {},
   "outputs": [],
   "source": []
  },
  {
   "cell_type": "code",
   "execution_count": null,
   "metadata": {},
   "outputs": [],
   "source": []
  }
 ],
 "metadata": {
  "kernelspec": {
   "display_name": "Python 3",
   "language": "python",
   "name": "python3"
  },
  "language_info": {
   "codemirror_mode": {
    "name": "ipython",
    "version": 3
   },
   "file_extension": ".py",
   "mimetype": "text/x-python",
   "name": "python",
   "nbconvert_exporter": "python",
   "pygments_lexer": "ipython3",
   "version": "3.7.4"
  }
 },
 "nbformat": 4,
 "nbformat_minor": 4
}
