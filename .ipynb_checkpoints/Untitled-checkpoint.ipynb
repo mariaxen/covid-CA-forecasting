{
 "cells": [
  {
   "cell_type": "code",
   "execution_count": 1,
   "id": "633fb069",
   "metadata": {},
   "outputs": [],
   "source": [
    "import pandas as pd\n",
    "import pickle\n",
    "import numpy as np"
   ]
  },
  {
   "cell_type": "code",
   "execution_count": null,
   "id": "293fc03e",
   "metadata": {},
   "outputs": [],
   "source": [
    "#Import Alameda social distancing\n",
    "ca_social_distancing = pd.read_csv('/home/mxenoc/workspace/covid-CA-forecasting/data/csv_files/ca_social_distancing.csv', error_bad_lines=False, engine=\"python\")\n",
    "\n",
    "#Keep the columns you want\n",
    "social_distancing_CA = ca_social_distancing[['origin_census_block_group', 'date_range_start', 'device_count', 'destination_cbgs']]"
   ]
  },
  {
   "cell_type": "code",
   "execution_count": null,
   "id": "383aacc2",
   "metadata": {},
   "outputs": [],
   "source": [
    "#Make it to date format\n",
    "social_distancing_CA['date_range_start'] = pd.to_datetime(social_distancing_CA['date_range_start'])"
   ]
  },
  {
   "cell_type": "code",
   "execution_count": null,
   "id": "956ae820",
   "metadata": {},
   "outputs": [],
   "source": [
    "with open('/home/mxenoc/workspace/pickles/RISE/social_distancing_CA.pkl', 'wb') as f:  \n",
    "    pickle.dump(social_distancing_CA, f)"
   ]
  },
  {
   "cell_type": "code",
   "execution_count": null,
   "id": "f40872c2",
   "metadata": {},
   "outputs": [],
   "source": [
    "#This matches census block groups to cities\n",
    "#Import dataset\n",
    "matching_cities = pd.read_csv('/home/mxenoc/workspace/covid-CA-forecasting/data/csv_files/matching_cities.csv',error_bad_lines=False, engine=\"python\")\n",
    "#Remove first row\n",
    "matching_cities = matching_cities.loc[1:,:]\n",
    "#Drop unwanted columns\n",
    "matching_cities.drop(['Unnamed: 0', 'zipcode'], axis = 1, inplace = True)"
   ]
  },
  {
   "cell_type": "code",
   "execution_count": null,
   "id": "ac200b49",
   "metadata": {},
   "outputs": [],
   "source": [
    "#Remove the ''' from the origin column\n",
    "matching_cities['census_block_group'] = matching_cities['census_block_group'].astype(str).str[1:]\n",
    "#Create a row to match the stay home devices\n",
    "add_row = pd.DataFrame([['completely_home_device_count', 1.000000, 'staying_home']], columns = ['census_block_group', 'afact', 'city'])\n",
    "#Append row\n",
    "matching_cities = matching_cities.append(add_row, ignore_index = True)\n",
    "\n",
    "with open('/home/mxenoc/workspace/pickles/RISE/matching_cities.pkl', 'wb') as f:  \n",
    "    pickle.dump(matching_cities, f)"
   ]
  },
  {
   "cell_type": "code",
   "execution_count": 1,
   "id": "0f930fa9",
   "metadata": {},
   "outputs": [],
   "source": [
    "import pandas as pd\n",
    "import numpy as np\n",
    "from collections import defaultdict\n",
    "import csv\n",
    "import pickle\n",
    "from datetime import datetime\n",
    "\n",
    "#Import social distancing\n",
    "with open('/home/mxenoc/workspace/pickles/RISE/social_distancing_CA.pkl', 'rb') as f:\n",
    "    social_distancing_CA = pickle.load(f)\n",
    "\n",
    "#Import matching cities\n",
    "with open('/home/mxenoc/workspace/pickles/RISE/matching_cities.pkl', 'rb') as f:\n",
    "    matching_cities = pickle.load(f)"
   ]
  },
  {
   "cell_type": "code",
   "execution_count": 2,
   "id": "14fea64f",
   "metadata": {},
   "outputs": [],
   "source": [
    "#Get the range dates in a list\n",
    "dates_range = np.unique(social_distancing_CA['date_range_start'])\n",
    "date = '2020-12-01'"
   ]
  },
  {
   "cell_type": "code",
   "execution_count": 3,
   "id": "dffa853e",
   "metadata": {},
   "outputs": [],
   "source": [
    "#Pick a day\n",
    "social_distancing_CA = social_distancing_CA.loc[social_distancing_CA['date_range_start'] == date] \n",
    "\n",
    "#Add week number\n",
    "#social_distancing_CA.loc[:,'week'] = social_distancing_CA.loc[:,'date_range_start'].apply(lambda x: x.strftime('%W'))"
   ]
  },
  {
   "cell_type": "code",
   "execution_count": 4,
   "id": "eee7f2f6",
   "metadata": {},
   "outputs": [],
   "source": [
    "#Get temporary column with block groups as dictionary\n",
    "new_column = social_distancing_CA['destination_cbgs'].apply(lambda x : dict(eval(x)))\n",
    "#Turn it into a new dataframe with columns as destination postcodes\n",
    "new_columns = pd.DataFrame(new_column.tolist())"
   ]
  },
  {
   "cell_type": "code",
   "execution_count": 5,
   "id": "31867b02",
   "metadata": {},
   "outputs": [],
   "source": [
    "#Reset indexes\n",
    "social_distancing_CA = social_distancing_CA.reset_index()\n",
    "new_columns = new_columns.reset_index()\n",
    "\n",
    "#Concatenate the new dataframe with the old one\n",
    "social_distancing_CA = pd.concat([social_distancing_CA.drop(['destination_cbgs'], axis=1), new_columns], axis=1)"
   ]
  },
  {
   "cell_type": "code",
   "execution_count": 6,
   "id": "f71e2914",
   "metadata": {},
   "outputs": [],
   "source": [
    "#Fill nas with 0\n",
    "social_distancing_CA.fillna(0, inplace = True)\n",
    "#Drop unwanted columns\n",
    "social_distancing_CA = social_distancing_CA.drop(['index'], axis = 1)"
   ]
  },
  {
   "cell_type": "code",
   "execution_count": null,
   "id": "90afc912",
   "metadata": {},
   "outputs": [],
   "source": [
    "#Make columns rows\n",
    "blocks_mobility = social_distancing_CA.melt(id_vars=['origin_census_block_group', 'date_range_start', 'device_count'], \n",
    "                                             var_name=\"destination_census_block_group\", value_name=\"moving_devices\")"
   ]
  },
  {
   "cell_type": "code",
   "execution_count": null,
   "id": "ff215e36",
   "metadata": {},
   "outputs": [],
   "source": [
    "#Remove rows with 0 moving devices\n",
    "blocks_mobility = blocks_mobility[blocks_mobility.moving_devices != 0]\n",
    "\n",
    "#Remove the ''' from the origin column\n",
    "blocks_mobility['origin_census_block_group'] = blocks_mobility['origin_census_block_group'].astype(str).str[1:]"
   ]
  },
  {
   "cell_type": "code",
   "execution_count": null,
   "id": "ebe34dd5",
   "metadata": {},
   "outputs": [],
   "source": []
  },
  {
   "cell_type": "code",
   "execution_count": null,
   "id": "14d7036d",
   "metadata": {},
   "outputs": [],
   "source": []
  },
  {
   "cell_type": "code",
   "execution_count": null,
   "id": "8d24a243",
   "metadata": {},
   "outputs": [],
   "source": [
    "blocks_mobility"
   ]
  },
  {
   "cell_type": "code",
   "execution_count": null,
   "id": "c579a9eb",
   "metadata": {},
   "outputs": [],
   "source": []
  },
  {
   "cell_type": "code",
   "execution_count": null,
   "id": "26f1e0ea",
   "metadata": {},
   "outputs": [],
   "source": []
  },
  {
   "cell_type": "code",
   "execution_count": 22,
   "id": "6d84fb3d",
   "metadata": {},
   "outputs": [],
   "source": [
    "#Match origin block groups to cities\n",
    "matching_cities = matching_cities[['census_block_group', 'afact', 'city']]\n",
    "matching_cities.columns = ['origin_census_block_group', 'origin_afact', 'origin_city']\n",
    "merge_1 = blocks_mobility.merge(matching_cities)"
   ]
  },
  {
   "cell_type": "code",
   "execution_count": 24,
   "id": "3e50192a",
   "metadata": {},
   "outputs": [],
   "source": [
    "#Match destination block groups to cities\n",
    "matching_cities.columns = ['destination_census_block_group', 'destination_afact', 'destination_city']\n",
    "merge_2 = merge_1.merge(matching_cities)"
   ]
  },
  {
   "cell_type": "code",
   "execution_count": 26,
   "id": "0525db1f",
   "metadata": {},
   "outputs": [],
   "source": [
    "#Get new cases per city\n",
    "merge_2['moving_devices_new'] = np.round(merge_2.origin_afact.astype(float) * merge_2.destination_afact.astype(float) * merge_2.moving_devices.astype(float))\n",
    "merge_2['device_count_cities'] = np.round(merge_2.origin_afact.astype(float) * merge_2.destination_afact.astype(float) * merge_2.device_count.astype(float))"
   ]
  },
  {
   "cell_type": "code",
   "execution_count": 28,
   "id": "37ab2608",
   "metadata": {},
   "outputs": [],
   "source": [
    "#Drop unwanted columns\n",
    "movement_cities = merge_2.drop(['origin_census_block_group', 'destination_census_block_group',\n",
    "                                        'origin_afact', 'destination_afact', 'moving_devices', 'device_count'], axis = 1)"
   ]
  },
  {
   "cell_type": "code",
   "execution_count": 40,
   "id": "8233cd1a",
   "metadata": {},
   "outputs": [],
   "source": [
    "test = movement_cities.loc[movement_cities.origin_city == 'Campbell',:]"
   ]
  },
  {
   "cell_type": "code",
   "execution_count": 41,
   "id": "18962338",
   "metadata": {},
   "outputs": [],
   "source": [
    "test = test.loc[test.destination_city == 'Cupertino',:]"
   ]
  },
  {
   "cell_type": "code",
   "execution_count": 42,
   "id": "cf3e3858",
   "metadata": {},
   "outputs": [
    {
     "data": {
      "text/html": [
       "<div>\n",
       "<style scoped>\n",
       "    .dataframe tbody tr th:only-of-type {\n",
       "        vertical-align: middle;\n",
       "    }\n",
       "\n",
       "    .dataframe tbody tr th {\n",
       "        vertical-align: top;\n",
       "    }\n",
       "\n",
       "    .dataframe thead th {\n",
       "        text-align: right;\n",
       "    }\n",
       "</style>\n",
       "<table border=\"1\" class=\"dataframe\">\n",
       "  <thead>\n",
       "    <tr style=\"text-align: right;\">\n",
       "      <th></th>\n",
       "      <th>date_range_start</th>\n",
       "      <th>week</th>\n",
       "      <th>origin_city</th>\n",
       "      <th>destination_city</th>\n",
       "      <th>moving_devices_new</th>\n",
       "      <th>device_count_cities</th>\n",
       "    </tr>\n",
       "  </thead>\n",
       "  <tbody>\n",
       "    <tr>\n",
       "      <th>1847</th>\n",
       "      <td>2020-12-01</td>\n",
       "      <td>48</td>\n",
       "      <td>Campbell</td>\n",
       "      <td>Cupertino</td>\n",
       "      <td>20.0</td>\n",
       "      <td>1043.0</td>\n",
       "    </tr>\n",
       "  </tbody>\n",
       "</table>\n",
       "</div>"
      ],
      "text/plain": [
       "     date_range_start week origin_city destination_city  moving_devices_new  \\\n",
       "1847       2020-12-01   48    Campbell        Cupertino                20.0   \n",
       "\n",
       "      device_count_cities  \n",
       "1847               1043.0  "
      ]
     },
     "execution_count": 42,
     "metadata": {},
     "output_type": "execute_result"
    }
   ],
   "source": [
    "test"
   ]
  },
  {
   "cell_type": "code",
   "execution_count": 37,
   "id": "5a51a488",
   "metadata": {},
   "outputs": [],
   "source": [
    "#Drop rows with zero traffic and stay-home devices\n",
    "movement_cities = movement_cities[movement_cities.moving_devices_new != 0]\n",
    "movement_cities = movement_cities[movement_cities.destination_city != 'Home']"
   ]
  },
  {
   "cell_type": "code",
   "execution_count": 38,
   "id": "917cf2cc",
   "metadata": {},
   "outputs": [
    {
     "name": "stderr",
     "output_type": "stream",
     "text": [
      "<ipython-input-38-5b6723c3468d>:2: FutureWarning: Indexing with multiple keys (implicitly converted to a tuple of keys) will be deprecated, use a list instead.\n",
      "  movement_cities = movement_cities.groupby(['date_range_start', 'week', 'origin_city', 'destination_city'], as_index=False)['moving_devices_new', 'device_count_cities'].sum()\n"
     ]
    }
   ],
   "source": [
    "#Group by cities and date\n",
    "movement_cities = movement_cities.groupby(['date_range_start', 'week', 'origin_city', 'destination_city'], as_index=False)['moving_devices_new', 'device_count_cities'].sum()"
   ]
  },
  {
   "cell_type": "code",
   "execution_count": null,
   "id": "0d64911f",
   "metadata": {},
   "outputs": [],
   "source": [
    "#Add column with % population moving each day\n",
    "#movement_cities['moving_devices_%'] = movement_cities['moving_devices_new']/movement_cities['device_count_cities']\n",
    "#Drop unwanted columns\n",
    "#movement_cities = movement_cities.drop(['moving_devices_new', 'device_count_cities'], axis = 1)\n",
    "#Save each day\n",
    "with open('/home/mxenoc/workspace/RISE/data/social_distancing_days/movement_'+str(date)+'.pkl', 'wb') as f:  \n",
    "    pickle.dump(movement_cities, f)\n",
    "#Clear memory\n"
   ]
  },
  {
   "cell_type": "code",
   "execution_count": null,
   "id": "feb719d8",
   "metadata": {},
   "outputs": [],
   "source": []
  },
  {
   "cell_type": "code",
   "execution_count": null,
   "id": "7228dc1b",
   "metadata": {},
   "outputs": [],
   "source": []
  }
 ],
 "metadata": {
  "kernelspec": {
   "display_name": "Python 3",
   "language": "python",
   "name": "python3"
  },
  "language_info": {
   "codemirror_mode": {
    "name": "ipython",
    "version": 3
   },
   "file_extension": ".py",
   "mimetype": "text/x-python",
   "name": "python",
   "nbconvert_exporter": "python",
   "pygments_lexer": "ipython3",
   "version": "3.9.2"
  }
 },
 "nbformat": 4,
 "nbformat_minor": 5
}
